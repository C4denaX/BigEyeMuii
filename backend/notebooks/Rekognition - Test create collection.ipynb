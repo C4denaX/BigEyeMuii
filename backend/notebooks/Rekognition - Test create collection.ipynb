{
 "cells": [
  {
   "cell_type": "markdown",
   "metadata": {},
   "source": [
    "Instalar *boto3* (*AWS SDK* para *Python*)"
   ]
  },
  {
   "cell_type": "code",
   "execution_count": 1,
   "metadata": {
    "scrolled": false
   },
   "outputs": [
    {
     "name": "stdout",
     "output_type": "stream",
     "text": [
      "Requirement already satisfied: boto3 in c:\\users\\sverdejot\\anaconda3\\lib\\site-packages (1.17.54)\n",
      "Requirement already satisfied: s3transfer<0.5.0,>=0.4.0 in c:\\users\\sverdejot\\anaconda3\\lib\\site-packages (from boto3) (0.4.0)\n",
      "Requirement already satisfied: botocore<1.21.0,>=1.20.54 in c:\\users\\sverdejot\\anaconda3\\lib\\site-packages (from boto3) (1.20.54)\n",
      "Requirement already satisfied: jmespath<1.0.0,>=0.7.1 in c:\\users\\sverdejot\\anaconda3\\lib\\site-packages (from boto3) (0.10.0)\n",
      "Requirement already satisfied: python-dateutil<3.0.0,>=2.1 in c:\\users\\sverdejot\\anaconda3\\lib\\site-packages (from botocore<1.21.0,>=1.20.54->boto3) (2.8.1)\n",
      "Requirement already satisfied: urllib3<1.27,>=1.25.4 in c:\\users\\sverdejot\\anaconda3\\lib\\site-packages (from botocore<1.21.0,>=1.20.54->boto3) (1.25.11)\n",
      "Requirement already satisfied: six>=1.5 in c:\\users\\sverdejot\\anaconda3\\lib\\site-packages (from python-dateutil<3.0.0,>=2.1->botocore<1.21.0,>=1.20.54->boto3) (1.15.0)\n"
     ]
    }
   ],
   "source": [
    "!pip install boto3"
   ]
  },
  {
   "cell_type": "code",
   "execution_count": 1,
   "metadata": {},
   "outputs": [],
   "source": [
    "import boto3\n",
    "import json\n",
    "import os\n",
    "import time\n",
    "from boto3.dynamodb.conditions import Key\n",
    "\n",
    "region = 'us-east-1'"
   ]
  },
  {
   "cell_type": "code",
   "execution_count": 2,
   "metadata": {},
   "outputs": [],
   "source": [
    "rek = boto3.client('rekognition', region_name=region)"
   ]
  },
  {
   "cell_type": "markdown",
   "metadata": {},
   "source": [
    "Crear uan colección para almacenar los *faceId* de los usuarios registrados. Sobre esta colección es sobre la que se harán consultas en la operación de reconocimiento facial"
   ]
  },
  {
   "cell_type": "code",
   "execution_count": 58,
   "metadata": {},
   "outputs": [],
   "source": [
    "face_collection = 'big-eye-muii-face-collection'\n",
    "rek.create_collection(CollectionId=face_collection)"
   ]
  },
  {
   "cell_type": "code",
   "execution_count": 3,
   "metadata": {},
   "outputs": [],
   "source": [
    "response = rek.list_collections(MaxResults=10)\n",
    "response"
   ]
  },
  {
   "cell_type": "markdown",
   "metadata": {},
   "source": [
    "Comprobamos que no haya nigún *faceId* almacenado por el momento"
   ]
  },
  {
   "cell_type": "code",
   "execution_count": 5,
   "metadata": {},
   "outputs": [],
   "source": [
    "response = rek.list_faces(CollectionId=face_collection)\n",
    "response"
   ]
  },
  {
   "cell_type": "markdown",
   "metadata": {},
   "source": [
    "En caso de que no haya, para probar la función de renocimiento debemos añadir una. Para ello, tenemos que subir una imagen a un *Bucket* de *S3*."
   ]
  },
  {
   "cell_type": "code",
   "execution_count": null,
   "metadata": {},
   "outputs": [],
   "source": [
    "bucket_name = 'bucket-name'\n",
    "object_key = 'object-key-on-bucket'\n",
    "\n",
    "response = rek.index_faces(\n",
    "    CollectionId='big-eye-muii-face-collection',\n",
    "    Image={\n",
    "        'S3Object':{\n",
    "            'Bucket': bucket_name,\n",
    "            'Name': object_key\n",
    "        }\n",
    "    },\n",
    "    ExternalImageId= object_key,\n",
    "    MaxFaces=1,\n",
    "    QualityFilter=\"AUTO\",\n",
    "    DetectionAttributes=['ALL']\n",
    ")\n",
    "\n",
    "faceId = response['FaceRecords'][0]['Face']['FaceId']"
   ]
  },
  {
   "cell_type": "markdown",
   "metadata": {},
   "source": [
    "Además, para que la función se ejecute correctamente hemos de simular que el usuario anterior se ha registrado añadiendo una entrada a la tabla de usuarios."
   ]
  },
  {
   "cell_type": "code",
   "execution_count": null,
   "metadata": {},
   "outputs": [],
   "source": [
    "user_table = 'USER_TABLE'\n",
    "\n",
    "dyn_resource = boto3.resource('dynamodb', region_name=region)\n",
    "dyn_client = boto3.client('dynamodb', region_name=region)\n",
    "\n",
    "tables = dyn_client.list_tables()['TableNames']\n",
    "\n",
    "if user_table not in tables:\n",
    "    dyn_resource.create_table(\n",
    "        TableName=user_table,\n",
    "        KeySchema=[\n",
    "            {\n",
    "                'AttributeName': 'faceId',\n",
    "                'KeyType': 'HASH'\n",
    "            }\n",
    "        ],\n",
    "        AttributeDefinitions=[\n",
    "            {\n",
    "                'AttributeName': 'faceId'\n",
    "                'AttributeType': 'S'\n",
    "            },\n",
    "            {\n",
    "                'AttributeName': 'fullName',\n",
    "                'AttributeType': 'S'\n",
    "            }\n",
    "        ],\n",
    "        ProvisionedThroughput={\n",
    "            'ReadCapacityUnits': 5,\n",
    "            'WriteCapacityUnits': 5\n",
    "        }\n",
    "    )\n",
    "    \n",
    "user_table_res = dyn_resource.Table(user_table)\n",
    "user_table_res.put_object(Item={\n",
    "    'faceId': faceId,\n",
    "    'fullName' 'user-name'\n",
    "})"
   ]
  },
  {
   "cell_type": "markdown",
   "metadata": {},
   "source": [
    "Además, si no está creada, también se debe crear la tabla de logs"
   ]
  },
  {
   "cell_type": "code",
   "execution_count": null,
   "metadata": {},
   "outputs": [],
   "source": [
    "log_table = 'LOG_TABLE'\n",
    "\n",
    "if log_table not in tables:\n",
    "    dyn_resource.create_table(\n",
    "        TableName=log_table,\n",
    "        KeySchema=[\n",
    "            {\n",
    "                'AttributeName': 'faceId',\n",
    "                'KeyType': 'HASH'\n",
    "            },\n",
    "            {\n",
    "                'AttributeName': 'ts',\n",
    "                'KeyType': 'RANGE'\n",
    "            }\n",
    "        ],\n",
    "        AttributeDefinitions=[\n",
    "            {\n",
    "                'AttributeName': 'faceId'\n",
    "                'AttributeType': 'S'\n",
    "            },\n",
    "            {\n",
    "                'AttributeName': 'ts',\n",
    "                'KeyType': 'N'\n",
    "            },\n",
    "            {\n",
    "                'AttributeName': 'fullName',\n",
    "                'AttributeType': 'S'\n",
    "            }\n",
    "        ],\n",
    "        ProvisionedThroughput={\n",
    "            'ReadCapacityUnits': 5,\n",
    "            'WriteCapacityUnits': 5\n",
    "        }\n",
    "    )"
   ]
  },
  {
   "cell_type": "markdown",
   "metadata": {},
   "source": [
    "Por último, ejecutamos la lógica de la función *lambda*. Cabe destacar que a la función desplegada habrá que hacerle una serie de cambios:\n",
    "* El nombre del *bucket* y el nombre del fichero serán establecidos a partir del evento desencadenador (parámetro *event*)\n",
    "* Los nombres de las tablas y la coleción de *Rekognition* serán establecidos como variables de entorno y extraídos mediante *os.environ*"
   ]
  },
  {
   "cell_type": "code",
   "execution_count": 1,
   "metadata": {},
   "outputs": [],
   "source": [
    "def lambda_handler(event, context):\n",
    "    # In case the collections does not exists, return HTTP404 NOT FOUND\n",
    "    if face_collection not in rek.list_collections()['CollectionIds']:\n",
    "        print(f\"Collection with id {face_collection} not found\")\n",
    "\n",
    "    response = rek.search_faces_by_image(\n",
    "        CollectionId=face_collection,\n",
    "        Image={\n",
    "            'S3Object':{\n",
    "                'Bucket': bucket_name,\n",
    "                'Name': object_key\n",
    "            }\n",
    "        },\n",
    "        MaxFaces=1\n",
    "    )\n",
    "\n",
    "    if not response['FaceMatches']:\n",
    "        # In case no face with similarity above 90% was found on collections, retunr HTTP403 FORBIDDEN\n",
    "        print(\"Face not registered with threshold above 80%\")\n",
    "    else:\n",
    "        # Otherwise, return HTTP200 SUCCESSFULL and increment entry on log table\n",
    "        faceMatch = response['FaceMatches'][0]\n",
    "\n",
    "        dyn_log_table = dyn_resource.Table('backend-muii-metadata')\n",
    "\n",
    "        print(faceMatch['Face']['FaceId'])\n",
    "        response = user_table_res.query(KeyConditionExpression=Key('faceId').eq(faceMatch['Face']['FaceId']))\n",
    "        userInfo = response.get('Items', [])\n",
    "\n",
    "        if not userInfo:\n",
    "            print(\"User not registered\")\n",
    "        \n",
    "        user_log_info = {\n",
    "            'faceId': faceMatch['Face']['FaceId'],\n",
    "            'ts': time.time_ns(),\n",
    "            'fullName': userInfo[0]['fullName']\n",
    "        }\n",
    "\n",
    "        dyn_log_table.put_item(Item=user_log_info)\n",
    "\n",
    "        print(f\"FaceId [{faceMatch['Face']['FaceId']} was found with {faceMatch['Similarity']:.2f}%]\")"
   ]
  },
  {
   "cell_type": "markdown",
   "metadata": {},
   "source": [
    "Ya que no necesitamos extraer nada del evento desencadenador, podemos ejecutar la función sin parámetros para comprobar la salida"
   ]
  },
  {
   "cell_type": "code",
   "execution_count": 32,
   "metadata": {},
   "outputs": [
    {
     "name": "stdout",
     "output_type": "stream",
     "text": [
      "4d55d042-f5af-4574-9ed9-00387702e987\n",
      "FaceId [4d55d042-f5af-4574-9ed9-00387702e987 was found with 100.00%]\n"
     ]
    }
   ],
   "source": [
    "lambda_handler(None, None)"
   ]
  }
 ],
 "metadata": {
  "kernelspec": {
   "display_name": "Python 3",
   "language": "python",
   "name": "python3"
  },
  "language_info": {
   "codemirror_mode": {
    "name": "ipython",
    "version": 3
   },
   "file_extension": ".py",
   "mimetype": "text/x-python",
   "name": "python",
   "nbconvert_exporter": "python",
   "pygments_lexer": "ipython3",
   "version": "3.8.5"
  }
 },
 "nbformat": 4,
 "nbformat_minor": 4
}
